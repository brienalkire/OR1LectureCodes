{
  "nbformat": 4,
  "nbformat_minor": 0,
  "metadata": {
    "colab": {
      "name": "OR1Lecture1_LinearAlgebra.ipynb",
      "provenance": [],
      "collapsed_sections": []
    },
    "kernelspec": {
      "name": "python3",
      "display_name": "Python 3"
    },
    "language_info": {
      "name": "python"
    }
  },
  "cells": [
    {
      "cell_type": "code",
      "source": [
        "import numpy as np\n",
        "A=np.array([[1,2,0],\n",
        "           [3,-1,-2]])\n",
        "x=np.array([-1,3,2]).T # Observe we transpose to create a col vector\n",
        "y=np.array([2,-1]).T\n",
        "print(A@x) # In Python we use @ for linear algebra multiplication\n",
        "print(y.T@A)"
      ],
      "metadata": {
        "colab": {
          "base_uri": "https://localhost:8080/"
        },
        "id": "4HpGMxHabKNr",
        "outputId": "dbec8705-48e2-4c48-8f4b-2abb7caef704"
      },
      "execution_count": null,
      "outputs": [
        {
          "output_type": "stream",
          "name": "stdout",
          "text": [
            "[  5 -10]\n",
            "[-1  5  2]\n"
          ]
        }
      ]
    },
    {
      "cell_type": "code",
      "execution_count": null,
      "metadata": {
        "colab": {
          "base_uri": "https://localhost:8080/"
        },
        "id": "7qMTWWxTfUzb",
        "outputId": "024aac83-19c3-49c7-b179-9072eb171b79"
      },
      "outputs": [
        {
          "output_type": "stream",
          "name": "stdout",
          "text": [
            "[[0.66666667 0.5        0.33333333]\n",
            " [0.33333333 0.         0.33333333]\n",
            " [0.         0.5        0.33333333]]\n",
            "[1 0 0]\n",
            "[0.66666667 0.33333333 0.        ]\n"
          ]
        }
      ],
      "source": [
        "import numpy as np\n",
        "M=np.array([[2/3,1/2,1/3], # Markov matrix\n",
        "            [1/3,0,1/3],\n",
        "            [0,1/2,1/3]])\n",
        "x=np.array([1,0,0]).T # Observe we transpose to create a column vector\n",
        "print(M)\n",
        "print(x)\n",
        "print(M@x) # We use the @ symbol for multiplication"
      ]
    },
    {
      "cell_type": "code",
      "source": [
        "import numpy as np\n",
        "from numpy import linalg as la\n",
        "M=np.array([[2/3,1/2,1/3],\n",
        "            [1/3,0,1/3],\n",
        "            [0,1/2,1/3]])\n",
        "d,V=la.eig(M)\n",
        "print(d)\n",
        "print(V)\n",
        "x=V[:,1]/sum(V[:,1]) # We use the second column of V\n",
        "print(x)"
      ],
      "metadata": {
        "colab": {
          "base_uri": "https://localhost:8080/"
        },
        "id": "OCcGKtOIlF8q",
        "outputId": "896c4501-f23f-403b-ff57-2fb515f2948c"
      },
      "execution_count": null,
      "outputs": [
        {
          "output_type": "stream",
          "name": "stdout",
          "text": [
            "[-0.33333333  1.          0.33333333]\n",
            "[[ 1.96116135e-01  8.74157276e-01 -7.07106781e-01]\n",
            " [-7.84464541e-01  3.88514345e-01 -9.57747421e-17]\n",
            " [ 5.88348405e-01  2.91385759e-01  7.07106781e-01]]\n",
            "[0.5625 0.25   0.1875]\n"
          ]
        }
      ]
    },
    {
      "cell_type": "code",
      "source": [
        "import time\n",
        "import numpy as np\n",
        "from numpy import linalg as la\n",
        "n=1000\n",
        "m=30\n",
        "np.random.seed(0)\n",
        "elapsed=np.zeros(m)\n",
        "for j in range(0,m):\n",
        "  A=np.random.rand(n,n)\n",
        "  tic=time.perf_counter()\n",
        "  d,V=la.eig(A)\n",
        "  toc=time.perf_counter()\n",
        "  elapsed[j]=toc-tic\n",
        "print(f\"Average time {np.mean(elapsed):0.4f} seconds, standard deviation {np.std(elapsed):0.4f} seconds\")\n"
      ],
      "metadata": {
        "colab": {
          "base_uri": "https://localhost:8080/"
        },
        "id": "_LIQgBKkeDgu",
        "outputId": "e78f4180-a8c2-4b88-dabd-3662de23dc4a"
      },
      "execution_count": 10,
      "outputs": [
        {
          "output_type": "stream",
          "name": "stdout",
          "text": [
            "Average time 1.9731 seconds, standard deviation 0.0447\n"
          ]
        }
      ]
    }
  ]
}