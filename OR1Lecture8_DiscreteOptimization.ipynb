{
  "nbformat": 4,
  "nbformat_minor": 0,
  "metadata": {
    "colab": {
      "name": "OR1Lecture8_DiscreteOptimization.ipynb",
      "provenance": [],
      "collapsed_sections": []
    },
    "kernelspec": {
      "name": "python3",
      "display_name": "Python 3"
    },
    "language_info": {
      "name": "python"
    }
  },
  "cells": [
    {
      "cell_type": "code",
      "execution_count": null,
      "metadata": {
        "colab": {
          "base_uri": "https://localhost:8080/"
        },
        "id": "81WCVZA8ThJL",
        "outputId": "f1577f3c-f716-499d-d067-0bcbf9872d73"
      },
      "outputs": [
        {
          "output_type": "stream",
          "name": "stdout",
          "text": [
            "The status is optimal\n",
            "Total cost to foundation ($K) 46.0\n",
            "The facilities to open are [[1. 1. 0.]]\n",
            "The assignment of facilities to villages are \n",
            " [[1. 0. 0.]\n",
            " [1. 0. 0.]\n",
            " [0. 1. 0.]\n",
            " [0. 1. 0.]\n",
            " [0. 1. 0.]\n",
            " [0. 1. 0.]\n",
            " [1. 0. 0.]]\n"
          ]
        }
      ],
      "source": [
        "## OR1 Lecture 7 Facility Location Problem Example\n",
        "## Brien Alkire, 20220215\n",
        "import numpy as np\n",
        "import cvxpy as cp\n",
        "m=7 # Num villages\n",
        "n=3 # Num facility locations\n",
        "c=np.array([[5,10,7]]) # Facility costs\n",
        "d=np.array([[4,6,4],   # Aid costs\n",
        "            [8,12,9],\n",
        "            [4,3,6],\n",
        "            [7,4,8],\n",
        "           [10,2,5],\n",
        "           [9,4,2],\n",
        "           [6,7,7]])\n",
        "# Define the binary (boolean) variables\n",
        "x=cp.Variable((m,n),boolean=True)\n",
        "w=cp.Variable((1,n),boolean=True)\n",
        "# Define the objective and constraints\n",
        "obj=cp.sum(cp.multiply(x,d))+cp.sum(cp.multiply(w,c)) \n",
        "constraints=[cp.sum(x, axis=1)-np.ones((m)) == 0, \n",
        "             x-np.ones((m,1))*w <= 0]        \n",
        "# Formulate and solve\n",
        "prob=cp.Problem(cp.Minimize(obj),constraints)\n",
        "prob.solve()\n",
        "print(\"The status is\",prob.status)\n",
        "print(\"Total cost to foundation ($K)\",prob.value)\n",
        "print(\"The facilities to open are\",w.value)\n",
        "print(\"The assignment of facilities to villages are \\n\",x.value)"
      ]
    },
    {
      "cell_type": "code",
      "source": [
        "print(1/np.exp(1))"
      ],
      "metadata": {
        "colab": {
          "base_uri": "https://localhost:8080/"
        },
        "id": "uOrHAl4YX4fZ",
        "outputId": "7e8ba40e-4969-4782-9a51-b3352918d5f2"
      },
      "execution_count": null,
      "outputs": [
        {
          "output_type": "stream",
          "name": "stdout",
          "text": [
            "0.36787944117144233\n"
          ]
        }
      ]
    }
  ]
}