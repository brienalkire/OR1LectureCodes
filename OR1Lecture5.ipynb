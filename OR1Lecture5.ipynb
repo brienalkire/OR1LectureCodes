{
  "nbformat": 4,
  "nbformat_minor": 0,
  "metadata": {
    "colab": {
      "name": "OR1Lecture5.ipynb",
      "provenance": [],
      "collapsed_sections": []
    },
    "kernelspec": {
      "name": "python3",
      "display_name": "Python 3"
    },
    "language_info": {
      "name": "python"
    }
  },
  "cells": [
    {
      "cell_type": "code",
      "execution_count": null,
      "metadata": {
        "colab": {
          "base_uri": "https://localhost:8080/"
        },
        "outputId": "9332c210-c9d9-4772-87e8-b4bf122390da",
        "id": "jL-fnSxNa8of"
      },
      "outputs": [
        {
          "output_type": "stream",
          "name": "stdout",
          "text": [
            "The status is optimal\n",
            "The primal variables are [0.14107884 0.42738589 0.43153527]\n",
            "The objective function is 0.0030203319502073544\n",
            "The dual variables are 0.49593360995849595 0.5295676348547609 [0. 0. 0.]\n"
          ]
        }
      ],
      "source": [
        "# OR1 lecture 5 constrained optimization example\n",
        "# Brien Alkire, 20220224\n",
        "import numpy as np \n",
        "import cvxpy as cp \n",
        "m=np.array([1.05,1.10,1.07]).T\n",
        "C=np.array([[0.0163,-0.0137,-0.0020],\\\n",
        "            [-0.0137,0.0239,-0.0007],\\\n",
        "            [-0.002,-0.0007,0.0026]])\n",
        "x=cp.Variable(3)\n",
        "risk=cp.quad_form(x,C)\n",
        "objective=cp.Minimize(risk)\n",
        "constraints=[1.08-m[0]*x[0]-m[1]*x[1]-m[2]*x[2] <= 0,\n",
        "             cp.sum(x)-1 == 0,\n",
        "             -x <= 0]\n",
        "prob=cp.Problem(objective,constraints)\n",
        "prob.solve()\n",
        "print(\"The status is\",prob.status)\n",
        "print(\"The primal variables are\",x.value)\n",
        "print(\"The objective function is\",prob.value)\n",
        "print(\"The dual variables are\",\\\n",
        "      prob.constraints[0].dual_value,\\\n",
        "      prob.constraints[1].dual_value,\\\n",
        "      prob.constraints[2].dual_value)"
      ]
    }
  ]
}