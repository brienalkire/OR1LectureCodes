{
  "nbformat": 4,
  "nbformat_minor": 0,
  "metadata": {
    "colab": {
      "name": "OR1Lecture4_SolvingUnconstrained.ipynb",
      "provenance": [],
      "collapsed_sections": []
    },
    "kernelspec": {
      "name": "python3",
      "display_name": "Python 3"
    },
    "language_info": {
      "name": "python"
    }
  },
  "cells": [
    {
      "cell_type": "code",
      "execution_count": null,
      "metadata": {
        "colab": {
          "base_uri": "https://localhost:8080/"
        },
        "id": "o2SdgdBAhmiA",
        "outputId": "7493aad6-33ee-4f85-df04-8db984ecfcda"
      },
      "outputs": [
        {
          "output_type": "stream",
          "name": "stdout",
          "text": [
            "The status is optimal\n",
            "\n",
            "The optimal solution is [-3.46573576e-01  7.20482539e-11]\n"
          ]
        }
      ],
      "source": [
        "import numpy as np\n",
        "import cvxpy as cp\n",
        "x=cp.Variable(2)\n",
        "prob=cp.Problem(cp.Minimize(cp.exp(x[0]+x[1]-1)+\\\n",
        "                            cp.exp(x[0]-x[1]-1)+\\\n",
        "                            cp.exp(-x[0]-1)))\n",
        "prob.solve()\n",
        "print(\"The status is\",prob.status)\n",
        "print(\"\\nThe optimal solution is\",x.value)"
      ]
    }
  ]
}