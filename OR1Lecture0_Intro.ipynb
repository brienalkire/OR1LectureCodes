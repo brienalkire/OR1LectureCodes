{
  "nbformat": 4,
  "nbformat_minor": 0,
  "metadata": {
    "colab": {
      "name": "OR1Lecture0_Intro.ipynb",
      "provenance": [],
      "collapsed_sections": []
    },
    "kernelspec": {
      "name": "python3",
      "display_name": "Python 3"
    },
    "language_info": {
      "name": "python"
    }
  },
  "cells": [
    {
      "cell_type": "code",
      "execution_count": null,
      "metadata": {
        "colab": {
          "base_uri": "https://localhost:8080/"
        },
        "id": "t7X-gWUsN0Wx",
        "outputId": "a434a004-615c-4d05-aba2-3a9d0e87b4c6"
      },
      "outputs": [
        {
          "output_type": "stream",
          "name": "stdout",
          "text": [
            "The status is optimal\n",
            "The optimal proportions for gold, stocks, and bonds respectively are [0.14107884 0.42738589 0.43153527]\n",
            "The optimal risk is 0.0030203319502073544\n"
          ]
        }
      ],
      "source": [
        "# Lecture 0 portfolio optimization example\n",
        "# Brien Alkire, 20220224\n",
        "import numpy as np # For basic linear algebra\n",
        "import cvxpy as cp # For formulating and solving optimization problem\n",
        "m=np.array([1.05,1.10,1.07]).T # Mean rates of return\n",
        "C=np.array([[0.0163,-0.0137,-0.0020], # Covariance matrix\n",
        "            [-0.0137,0.0239,-0.0007],\n",
        "            [-0.002,-0.0007,0.0026]])\n",
        "x=cp.Variable(3) # Define the variable\n",
        "risk=cp.quad_form(x,C) # Define the objective\n",
        "objective=cp.Minimize(risk)\n",
        "constraints=[1.08-m[0]*x[0]-m[1]*x[1]-m[2]*x[2] <= 0, # Define constraints\n",
        "             cp.sum(x)-1 == 0,\n",
        "             -x <= 0]\n",
        "prob=cp.Problem(objective,constraints) # Solve\n",
        "prob.solve()\n",
        "# Print the results\n",
        "print(\"The status is\",prob.status)\n",
        "print(\"The optimal proportions for gold, stocks, and bonds respectively are\",x.value)\n",
        "print(\"The optimal risk is\",prob.value)"
      ]
    }
  ]
}