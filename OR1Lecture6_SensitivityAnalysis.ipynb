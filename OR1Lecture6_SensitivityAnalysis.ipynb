{
  "nbformat": 4,
  "nbformat_minor": 0,
  "metadata": {
    "colab": {
      "name": "OR1Lecture6.ipynb",
      "provenance": [],
      "collapsed_sections": []
    },
    "kernelspec": {
      "name": "python3",
      "display_name": "Python 3"
    },
    "language_info": {
      "name": "python"
    }
  },
  "cells": [
    {
      "cell_type": "code",
      "execution_count": null,
      "metadata": {
        "colab": {
          "base_uri": "https://localhost:8080/"
        },
        "outputId": "a0526fa4-bac9-44ba-f503-cfd399ea09e8",
        "id": "SnHi_w89dQKx"
      },
      "outputs": [
        {
          "output_type": "stream",
          "name": "stdout",
          "text": [
            "The primal variables are [0.07053942 0.54702628 0.3824343 ]\n",
            "The optimal objective function is 0.006155082987551817\n",
            "The dual variables are 0.75796680497925 0.8100838174273828 [0. 0. 0.]\n"
          ]
        }
      ],
      "source": [
        "# OR1 lecture 6 sensitivity analysis example\n",
        "# Brien Alkire, 20220224\n",
        "import numpy as np \n",
        "import cvxpy as cp \n",
        "m=np.array([1.05,1.10,1.07])\n",
        "C=np.array([[0.0163,-0.0137,-0.0020],\\\n",
        "            [-0.0137,0.0239,-0.0007],\\\n",
        "            [-0.002,-0.0007,0.0026]])\n",
        "x=cp.Variable(3)\n",
        "risk=cp.quad_form(x,C)\n",
        "objective=cp.Minimize(risk)\n",
        "constraints=[(1.08+0.005)-m[0]*x[0]-m[1]*x[1]-m[2]*x[2] <= 0,\n",
        "             cp.sum(x)-1 == 0,\n",
        "             -x <= 0]\n",
        "prob=cp.Problem(objective,constraints)\n",
        "prob.solve()\n",
        "print(\"The primal variables are\",x.value)\n",
        "print(\"The optimal objective function is\",prob.value)\n",
        "print(\"The dual variables are\",\\\n",
        "      prob.constraints[0].dual_value,\\\n",
        "      prob.constraints[1].dual_value,\\\n",
        "      prob.constraints[2].dual_value)"
      ]
    }
  ]
}