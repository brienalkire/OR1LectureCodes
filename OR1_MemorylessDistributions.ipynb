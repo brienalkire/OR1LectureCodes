{
  "nbformat": 4,
  "nbformat_minor": 0,
  "metadata": {
    "colab": {
      "name": "OR1_MemorylessDistributions.ipynb",
      "provenance": [],
      "authorship_tag": "ABX9TyPWm63zeZfRtsEqFuxu+FNp",
      "include_colab_link": true
    },
    "kernelspec": {
      "name": "python3",
      "display_name": "Python 3"
    },
    "language_info": {
      "name": "python"
    }
  },
  "cells": [
    {
      "cell_type": "markdown",
      "metadata": {
        "id": "view-in-github",
        "colab_type": "text"
      },
      "source": [
        "<a href=\"https://colab.research.google.com/github/brienalkire/OR1LectureCodes/blob/main/OR1_MemorylessDistributions.ipynb\" target=\"_parent\"><img src=\"https://colab.research.google.com/assets/colab-badge.svg\" alt=\"Open In Colab\"/></a>"
      ]
    },
    {
      "cell_type": "code",
      "execution_count": 29,
      "metadata": {
        "colab": {
          "base_uri": "https://localhost:8080/"
        },
        "outputId": "447cfe13-28f7-44fb-df9b-8e2e93e65fa7",
        "id": "NCFR2glPgHg_"
      },
      "outputs": [
        {
          "output_type": "stream",
          "name": "stdout",
          "text": [
            "P{target not hit}= 0.007999999999999995\n",
            "P{2 misses and 1 hit}= 0.09599999999999996\n",
            "P{1 miss and 2 hits}= 0.384\n",
            "P{3 hits}= 0.5120000000000001\n",
            "P{at least 1 hit}= 0.992\n",
            "P{2 or fewer hits}= 0.488\n"
          ]
        }
      ],
      "source": [
        "from scipy import stats\n",
        "from scipy import special\n",
        "n,p=3,0.8\n",
        "print(\"P{target not hit}=\",(1-p)**3)\n",
        "print(\"P{2 misses and 1 hit}=\",special.binom(n,1)*(1-p)**2*p)\n",
        "print(\"P{1 miss and 2 hits}=\",special.binom(n,2)*(1-p)*p**2)\n",
        "print(\"P{3 hits}=\",p**3)\n",
        "print(\"P{at least 1 hit}=\",1-(1-p)**3)\n",
        "print(\"P{2 or fewer hits}=\",special.binom(n,0)*(1-p)**3+special.binom(n,1)*(1-p)**2*p+special.binom(n,2)*(1-p)*p**2)"
      ]
    },
    {
      "cell_type": "code",
      "execution_count": 30,
      "metadata": {
        "colab": {
          "base_uri": "https://localhost:8080/"
        },
        "id": "LagXBUw5CGsx",
        "outputId": "46879f0d-2d71-4337-f64a-56cd07fb55ab"
      },
      "outputs": [
        {
          "output_type": "stream",
          "name": "stdout",
          "text": [
            "P{target not hit}= 0.007999999999999997\n",
            "P{2 misses and 1 hit}= 0.09599999999999996\n",
            "P{1 miss and 2 hits}= 0.38399999999999995\n",
            "P{3 hits}= 0.5120000000000001\n",
            "P{at least 1 hit}= 0.992\n",
            "P{2 or fewer hits}= 0.4879999999999999\n"
          ]
        }
      ],
      "source": [
        "from scipy import stats\n",
        "X = stats.binom(3, 0.8) # Declare X as a binomial variable to model 3 shots with p=0.8\n",
        "print(\"P{target not hit}=\",X.pmf(0))\n",
        "print(\"P{2 misses and 1 hit}=\",X.pmf(1))\n",
        "print(\"P{1 miss and 2 hits}=\",X.pmf(2))\n",
        "print(\"P{3 hits}=\",X.pmf(3))\n",
        "print(\"P{at least 1 hit}=\",1-X.cdf(0))\n",
        "print(\"P{2 or fewer hits}=\",X.cdf(2))"
      ]
    }
  ]
}