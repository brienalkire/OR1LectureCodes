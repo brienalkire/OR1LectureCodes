{
  "nbformat": 4,
  "nbformat_minor": 0,
  "metadata": {
    "colab": {
      "name": "OR1Lecture2_NumericalLimits.ipynb",
      "provenance": [],
      "collapsed_sections": []
    },
    "kernelspec": {
      "name": "python3",
      "display_name": "Python 3"
    },
    "language_info": {
      "name": "python"
    }
  },
  "cells": [
    {
      "cell_type": "code",
      "execution_count": null,
      "metadata": {
        "colab": {
          "base_uri": "https://localhost:8080/"
        },
        "id": "OJULzF9HqmnM",
        "outputId": "2f54c2b1-9549-4271-9fc4-098923288c56"
      },
      "outputs": [
        {
          "output_type": "stream",
          "name": "stdout",
          "text": [
            "[2147483646]\n",
            "[2147483647]\n",
            "[-2147483648]\n"
          ]
        }
      ],
      "source": [
        "## OR1 Example of integer overflow\n",
        "## Brien Alkire, 20220216\n",
        "import numpy as np\n",
        "i=np.array([2147483645],dtype=np.int32)\n",
        "for j in range(0,3):\n",
        "  i+=1\n",
        "  print(i)"
      ]
    },
    {
      "cell_type": "code",
      "source": [
        "# Represent bit pattern of integers (no built-in way to do this for floats)\n",
        "import numpy as np\n",
        "x=np.array([2147483647],dtype=np.int32)\n",
        "print(bin(x[0]))"
      ],
      "metadata": {
        "colab": {
          "base_uri": "https://localhost:8080/"
        },
        "id": "H0qCzjo4ucnf",
        "outputId": "12535c5f-a584-4fe4-9ce2-76b6b9dfe1d0"
      },
      "execution_count": null,
      "outputs": [
        {
          "output_type": "stream",
          "name": "stdout",
          "text": [
            "0b1111111111111111111111111111111\n"
          ]
        }
      ]
    },
    {
      "cell_type": "code",
      "source": [
        "# OR1 numerical representation\n",
        "# Brien Alkire, 20220216\n",
        "import numpy as np\n",
        "y=np.array([1],dtype=float)\n",
        "z=y+10**(-16)\n",
        "print('1+10^(-16)=%.16f'%z)\n",
        "z=y+np.finfo(float).eps\n",
        "print('The smallest double float greater than 1 is %.16f'%z)\n",
        "y=np.pi\n",
        "print('Pi to 18 digits is %.18f'%y)\n",
        "x=float('inf')\n",
        "print('Minus one times infinity equals %f'%(-x))\n",
        "print('One plus infinity equals %f'%(1+x))\n",
        "print('One divided by infinity equals %f'%(1/x))"
      ],
      "metadata": {
        "colab": {
          "base_uri": "https://localhost:8080/"
        },
        "id": "HPJYZont_Rwv",
        "outputId": "a02e2b6b-d3d9-4061-f544-4a476e170b91"
      },
      "execution_count": null,
      "outputs": [
        {
          "output_type": "stream",
          "name": "stdout",
          "text": [
            "1+10^(-16)=1.0000000000000000\n",
            "The smallest double float greater than 1 is 1.0000000000000002\n",
            "Pi to 18 digits is 3.141592653589793116\n",
            "Minus one times infinity equals -inf\n",
            "One plus infinity equals inf\n",
            "One divided by infinity equals 0.000000\n"
          ]
        }
      ]
    },
    {
      "cell_type": "code",
      "source": [
        ""
      ],
      "metadata": {
        "id": "ppE3eRbVXW8h"
      },
      "execution_count": null,
      "outputs": []
    },
    {
      "cell_type": "code",
      "source": [
        "# OR1 numerical representation\n",
        "# Brien Alkire, 20220216\n",
        "import numpy as np\n",
        "np.random.seed(0)\n",
        "A=np.random.rand(4,4)\n",
        "print(np.linalg.cond(A))"
      ],
      "metadata": {
        "colab": {
          "base_uri": "https://localhost:8080/"
        },
        "outputId": "13722edb-9d1a-413d-b2a1-2a45d03240b4",
        "id": "Kjm1f5VzXZQP"
      },
      "execution_count": null,
      "outputs": [
        {
          "output_type": "stream",
          "name": "stdout",
          "text": [
            "14.95001686958604\n"
          ]
        }
      ]
    },
    {
      "cell_type": "code",
      "source": [
        "import numpy as np\n",
        "gamma=10\n",
        "A=(1/2)*np.array([[1,1],\n",
        "                  [1-10**(-8),1+10**(-8)]])\n",
        "b=np.array([1,1+gamma]).T\n",
        "print(np.linalg.cond(A))\n",
        "x=np.linalg.solve(A,b)\n",
        "print(x)"
      ],
      "metadata": {
        "colab": {
          "base_uri": "https://localhost:8080/"
        },
        "id": "utTroFwfoYXR",
        "outputId": "3b8124bc-7d89-47b5-9658-9dda27ac92e2"
      },
      "execution_count": null,
      "outputs": [
        {
          "output_type": "stream",
          "name": "stdout",
          "text": [
            "200000003.2774435\n",
            "[-1.e+09  1.e+09]\n"
          ]
        }
      ]
    },
    {
      "cell_type": "code",
      "source": [
        "# Python example\n",
        "import numpy as np\n",
        "print(-np.log10(np.finfo(float).eps))"
      ],
      "metadata": {
        "colab": {
          "base_uri": "https://localhost:8080/"
        },
        "id": "g2T4bgsflXh4",
        "outputId": "559c3323-1c62-491a-87c9-e16355d4dfb6"
      },
      "execution_count": null,
      "outputs": [
        {
          "output_type": "stream",
          "name": "stdout",
          "text": [
            "15.653559774527022\n"
          ]
        }
      ]
    }
  ]
}